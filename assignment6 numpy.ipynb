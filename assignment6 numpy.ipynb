{
 "cells": [
  {
   "cell_type": "code",
   "execution_count": 1,
   "id": "2609b9f9",
   "metadata": {},
   "outputs": [],
   "source": [
    "import numpy as np"
   ]
  },
  {
   "cell_type": "code",
   "execution_count": 2,
   "id": "132b25e8",
   "metadata": {},
   "outputs": [],
   "source": [
    "file_url='https://raw.githubusercontent.com/svkarthik86/Advanced-python/main/climate.txt'"
   ]
  },
  {
   "cell_type": "code",
   "execution_count": 23,
   "id": "5f9b3447",
   "metadata": {},
   "outputs": [],
   "source": [
    "climate=np.genfromtxt(file_url,delimiter=\",\",skip_header=1,dtype=int)"
   ]
  },
  {
   "cell_type": "code",
   "execution_count": 24,
   "id": "fd793c58",
   "metadata": {},
   "outputs": [],
   "source": [
    "data=np.split(climate,10)"
   ]
  },
  {
   "cell_type": "code",
   "execution_count": 25,
   "id": "3c5eabff",
   "metadata": {},
   "outputs": [
    {
     "data": {
      "text/plain": [
       "[array([[ 25,  76,  99],\n",
       "        [ 39,  65,  70],\n",
       "        [ 59,  45,  77],\n",
       "        ...,\n",
       "        [ 95, 100,  66],\n",
       "        [ 75,  97,  24],\n",
       "        [ 87,  59,  81]]),\n",
       " array([[ 93,  41,  94],\n",
       "        [ 81,  47,  98],\n",
       "        [ 65,  71,  91],\n",
       "        ...,\n",
       "        [ 57,  91,  27],\n",
       "        [ 51,  92,  64],\n",
       "        [100,  32,  82]]),\n",
       " array([[82, 21, 40],\n",
       "        [76, 76, 93],\n",
       "        [47, 24, 81],\n",
       "        ...,\n",
       "        [68, 59, 74],\n",
       "        [49, 81, 28],\n",
       "        [44, 27, 27]]),\n",
       " array([[38, 46, 21],\n",
       "        [68, 75, 33],\n",
       "        [29, 91, 68],\n",
       "        ...,\n",
       "        [97, 43, 47],\n",
       "        [94, 90, 96],\n",
       "        [74, 66, 87]]),\n",
       " array([[57, 98, 28],\n",
       "        [51, 51, 22],\n",
       "        [50, 79, 20],\n",
       "        ...,\n",
       "        [62, 34, 83],\n",
       "        [98, 72, 23],\n",
       "        [79, 47, 46]]),\n",
       " array([[ 27,  49,  71],\n",
       "        [ 50,  77,  22],\n",
       "        [ 91,  30,  87],\n",
       "        ...,\n",
       "        [ 53,  67,  60],\n",
       "        [ 34,  33,  71],\n",
       "        [100,  26,  77]]),\n",
       " array([[45, 75, 73],\n",
       "        [45, 61, 73],\n",
       "        [33, 98, 53],\n",
       "        ...,\n",
       "        [44, 71, 21],\n",
       "        [50, 93, 76],\n",
       "        [83, 87, 56]]),\n",
       " array([[97, 58, 60],\n",
       "        [70, 53, 96],\n",
       "        [40, 34, 57],\n",
       "        ...,\n",
       "        [85, 68, 34],\n",
       "        [72, 73, 32],\n",
       "        [80, 31, 61]]),\n",
       " array([[ 71,  81,  29],\n",
       "        [ 46,  71,  44],\n",
       "        [ 77,  45, 100],\n",
       "        ...,\n",
       "        [ 47,  91,  86],\n",
       "        [ 90,  99,  96],\n",
       "        [ 40,  46,  78]]),\n",
       " array([[85, 51, 88],\n",
       "        [47, 66, 95],\n",
       "        [59, 95, 90],\n",
       "        ...,\n",
       "        [99, 62, 58],\n",
       "        [70, 71, 91],\n",
       "        [92, 39, 76]])]"
      ]
     },
     "execution_count": 25,
     "metadata": {},
     "output_type": "execute_result"
    }
   ],
   "source": [
    "data"
   ]
  },
  {
   "cell_type": "code",
   "execution_count": null,
   "id": "a5647f93",
   "metadata": {},
   "outputs": [],
   "source": [
    "yield_crop=[]\n"
   ]
  },
  {
   "cell_type": "code",
   "execution_count": 7,
   "id": "29f7d279",
   "metadata": {},
   "outputs": [],
   "source": [
    "header=np.genfromtxt(file_url,delimiter=\",\",skip_header=0,dtype=\"U\")"
   ]
  },
  {
   "cell_type": "code",
   "execution_count": 8,
   "id": "d4a71797",
   "metadata": {},
   "outputs": [],
   "source": [
    "header=\",\".join(header[0])"
   ]
  },
  {
   "cell_type": "code",
   "execution_count": 9,
   "id": "9be1cec1",
   "metadata": {},
   "outputs": [
    {
     "data": {
      "text/plain": [
       "'temperature,rainfall,humidity'"
      ]
     },
     "execution_count": 9,
     "metadata": {},
     "output_type": "execute_result"
    }
   ],
   "source": [
    "header"
   ]
  },
  {
   "cell_type": "code",
   "execution_count": 10,
   "id": "e738765f",
   "metadata": {},
   "outputs": [],
   "source": [
    "count=1\n",
    "for i in data:\n",
    "    np.savetxt(f\"Assignment/climate_project/climate_data_team{count}\",i,delimiter=\",\",header=header)\n",
    "    count+=1\n",
    "    "
   ]
  },
  {
   "cell_type": "code",
   "execution_count": null,
   "id": "6ac93867",
   "metadata": {},
   "outputs": [],
   "source": []
  },
  {
   "cell_type": "code",
   "execution_count": null,
   "id": "19670093",
   "metadata": {},
   "outputs": [],
   "source": []
  },
  {
   "cell_type": "code",
   "execution_count": null,
   "id": "5bd70104",
   "metadata": {},
   "outputs": [],
   "source": []
  }
 ],
 "metadata": {
  "kernelspec": {
   "display_name": "Python 3 (ipykernel)",
   "language": "python",
   "name": "python3"
  },
  "language_info": {
   "codemirror_mode": {
    "name": "ipython",
    "version": 3
   },
   "file_extension": ".py",
   "mimetype": "text/x-python",
   "name": "python",
   "nbconvert_exporter": "python",
   "pygments_lexer": "ipython3",
   "version": "3.10.4"
  }
 },
 "nbformat": 4,
 "nbformat_minor": 5
}
